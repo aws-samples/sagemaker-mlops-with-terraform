{
 "cells": [
  {
   "cell_type": "markdown",
   "id": "d5d0be0a",
   "metadata": {},
   "source": [
    "### Ingest data"
   ]
  },
  {
   "cell_type": "code",
   "execution_count": null,
   "id": "08c5db71",
   "metadata": {},
   "outputs": [],
   "source": [
    "import pandas as pd"
   ]
  },
  {
   "cell_type": "code",
   "execution_count": null,
   "id": "d82f6585",
   "metadata": {},
   "outputs": [],
   "source": [
    "!pip install mysql-connector"
   ]
  },
  {
   "cell_type": "code",
   "execution_count": null,
   "id": "24b41ce4",
   "metadata": {},
   "outputs": [],
   "source": [
    "!pip install pymysql"
   ]
  },
  {
   "cell_type": "code",
   "execution_count": null,
   "id": "e575a200",
   "metadata": {},
   "outputs": [],
   "source": [
    "df=pd.read_excel('DEM_DATASET.xlsx')\n",
    "df.head()"
   ]
  },
  {
   "cell_type": "markdown",
   "id": "328c69ee",
   "metadata": {},
   "source": [
    "### Check missing values"
   ]
  },
  {
   "cell_type": "code",
   "execution_count": null,
   "id": "95453222",
   "metadata": {},
   "outputs": [],
   "source": [
    "df.isnull().values.any()"
   ]
  },
  {
   "cell_type": "code",
   "execution_count": null,
   "id": "7224eb26",
   "metadata": {},
   "outputs": [],
   "source": [
    "df.isnull().sum()"
   ]
  },
  {
   "cell_type": "code",
   "execution_count": null,
   "id": "ea7f91da",
   "metadata": {},
   "outputs": [],
   "source": [
    "df.columns.values"
   ]
  },
  {
   "cell_type": "markdown",
   "id": "124746b9",
   "metadata": {},
   "source": [
    "### Load to MySQL database in AWS Cloud"
   ]
  },
  {
   "cell_type": "code",
   "execution_count": null,
   "id": "41c0c069",
   "metadata": {},
   "outputs": [],
   "source": [
    "user=\"<your user name>\"\n",
    "password=\"<your password>\"\n",
    "database_url=\"<database_url>\""
   ]
  },
  {
   "cell_type": "code",
   "execution_count": null,
   "id": "ba497516",
   "metadata": {},
   "outputs": [],
   "source": [
    "DATABASE_URL = f\"mysql+pymysql://{user}:{password}@{database_url}:3306/mydb\""
   ]
  },
  {
   "cell_type": "code",
   "execution_count": null,
   "id": "d4b961db",
   "metadata": {},
   "outputs": [],
   "source": [
    "from sqlalchemy import create_engine\n",
    "engine = create_engine(DATABASE_URL)"
   ]
  },
  {
   "cell_type": "code",
   "execution_count": null,
   "id": "71a19440",
   "metadata": {},
   "outputs": [],
   "source": [
    "df.to_sql('user_data', con=engine)"
   ]
  },
  {
   "cell_type": "markdown",
   "id": "c61bd23e",
   "metadata": {},
   "source": [
    "### Query data from the database"
   ]
  },
  {
   "cell_type": "code",
   "execution_count": null,
   "id": "bb55d852",
   "metadata": {},
   "outputs": [],
   "source": [
    "from sqlalchemy import text\n",
    "\n",
    "# Loop through every row in table \n",
    "with engine.connect() as connection:\n",
    "    query = text(\"SELECT * FROM user_data limit 10\")\n",
    "    userdata = connection.execute(query)\n",
    "    for user in userdata:\n",
    "        print(user[\"first_name\"])"
   ]
  },
  {
   "cell_type": "code",
   "execution_count": null,
   "id": "305d2847",
   "metadata": {},
   "outputs": [],
   "source": []
  }
 ],
 "metadata": {
  "kernelspec": {
   "display_name": "conda_python3",
   "language": "python",
   "name": "conda_python3"
  },
  "language_info": {
   "codemirror_mode": {
    "name": "ipython",
    "version": 3
   },
   "file_extension": ".py",
   "mimetype": "text/x-python",
   "name": "python",
   "nbconvert_exporter": "python",
   "pygments_lexer": "ipython3",
   "version": "3.10.8"
  }
 },
 "nbformat": 4,
 "nbformat_minor": 5
}
